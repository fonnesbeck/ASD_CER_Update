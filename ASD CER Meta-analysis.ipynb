{
 "cells": [
  {
   "cell_type": "markdown",
   "metadata": {},
   "source": [
    "We are aiming to meta-analyze the following outcomes:\n",
    "\n",
    "- ABC-Irritability\n",
    "- ABC-Hyperactivity\n",
    "- ABC-Social Withdrawal/Lethargy\n",
    "- ABC-Inappropriate Speech\n",
    "- ABC-Stereotypy\n",
    "- CGI-Improvement"
   ]
  },
  {
   "cell_type": "code",
   "execution_count": 1,
   "metadata": {
    "collapsed": false
   },
   "outputs": [],
   "source": [
    "%matplotlib inline\n",
    "import numpy as np\n",
    "import pandas as pd\n",
    "import pymc as pm\n",
    "import seaborn as sns\n",
    "import matplotlib.pyplot as plt"
   ]
  },
  {
   "cell_type": "code",
   "execution_count": 2,
   "metadata": {
    "collapsed": false
   },
   "outputs": [],
   "source": [
    "abc_data = (pd.read_excel('data/ASD_ABC data only_for MA_06062016.xlsx', \n",
    "                                    sheetname='ABC_data', \n",
    "                                    na_values=['ND','NR','NRNR'])\n",
    "                     .replace({'Intervention_category':{'placebo':'Placebo'}}))"
   ]
  },
  {
   "cell_type": "code",
   "execution_count": 3,
   "metadata": {
    "collapsed": false,
    "scrolled": false
   },
   "outputs": [
    {
     "data": {
      "text/html": [
       "<div>\n",
       "<table border=\"1\" class=\"dataframe\">\n",
       "  <thead>\n",
       "    <tr style=\"text-align: right;\">\n",
       "      <th></th>\n",
       "      <th>REFID</th>\n",
       "      <th>Citation</th>\n",
       "      <th>Child Paper</th>\n",
       "      <th>Rx Grouping</th>\n",
       "      <th>Group_Desc</th>\n",
       "      <th>RX_Class</th>\n",
       "      <th>Intervention_category</th>\n",
       "      <th>Dose</th>\n",
       "      <th>Route</th>\n",
       "      <th>Rx_Durn</th>\n",
       "      <th>...</th>\n",
       "      <th>Change score_Q1</th>\n",
       "      <th>Change score_Q3</th>\n",
       "      <th>Change score Min</th>\n",
       "      <th>Change score Max</th>\n",
       "      <th>Change score 95% L</th>\n",
       "      <th>Change score 95% H</th>\n",
       "      <th>Other stats</th>\n",
       "      <th>Results</th>\n",
       "      <th>Comments</th>\n",
       "      <th>Comments_2</th>\n",
       "    </tr>\n",
       "  </thead>\n",
       "  <tbody>\n",
       "    <tr>\n",
       "      <th>0</th>\n",
       "      <td>83</td>\n",
       "      <td>R. L. Findling, R. Mankoski, K. Timko, K. Lear...</td>\n",
       "      <td>NaN</td>\n",
       "      <td>G1:</td>\n",
       "      <td>aripiprazole</td>\n",
       "      <td>antipsychotics</td>\n",
       "      <td>Medical</td>\n",
       "      <td>2 - 15mg/day</td>\n",
       "      <td>oral</td>\n",
       "      <td>16 weeks</td>\n",
       "      <td>...</td>\n",
       "      <td>NaN</td>\n",
       "      <td>NaN</td>\n",
       "      <td>NaN</td>\n",
       "      <td>NaN</td>\n",
       "      <td>NaN</td>\n",
       "      <td>NaN</td>\n",
       "      <td>diff=-5.2 (95%CI: -10.2 to -0.2)</td>\n",
       "      <td>G1 Vs G2, p=0.041</td>\n",
       "      <td>NaN</td>\n",
       "      <td>NaN</td>\n",
       "    </tr>\n",
       "    <tr>\n",
       "      <th>1</th>\n",
       "      <td>83</td>\n",
       "      <td>R. L. Findling, R. Mankoski, K. Timko, K. Lear...</td>\n",
       "      <td>NaN</td>\n",
       "      <td>G2:</td>\n",
       "      <td>placebo</td>\n",
       "      <td>placebo</td>\n",
       "      <td>Placebo</td>\n",
       "      <td>NaN</td>\n",
       "      <td>oral</td>\n",
       "      <td>16 weeks</td>\n",
       "      <td>...</td>\n",
       "      <td>NaN</td>\n",
       "      <td>NaN</td>\n",
       "      <td>NaN</td>\n",
       "      <td>NaN</td>\n",
       "      <td>NaN</td>\n",
       "      <td>NaN</td>\n",
       "      <td>NaN</td>\n",
       "      <td>NaN</td>\n",
       "      <td>NaN</td>\n",
       "      <td>NaN</td>\n",
       "    </tr>\n",
       "    <tr>\n",
       "      <th>2</th>\n",
       "      <td>83</td>\n",
       "      <td>R. L. Findling, R. Mankoski, K. Timko, K. Lear...</td>\n",
       "      <td>NaN</td>\n",
       "      <td>G1:</td>\n",
       "      <td>aripiprazole</td>\n",
       "      <td>antipsychotics</td>\n",
       "      <td>Medical</td>\n",
       "      <td>2 - 15mg/day</td>\n",
       "      <td>oral</td>\n",
       "      <td>16 weeks</td>\n",
       "      <td>...</td>\n",
       "      <td>NaN</td>\n",
       "      <td>NaN</td>\n",
       "      <td>NaN</td>\n",
       "      <td>NaN</td>\n",
       "      <td>NaN</td>\n",
       "      <td>NaN</td>\n",
       "      <td>diff=-1.5 (95%CI: -2.6 to -0.3)</td>\n",
       "      <td>G1 Vs G2, p=0.013</td>\n",
       "      <td>NaN</td>\n",
       "      <td>NaN</td>\n",
       "    </tr>\n",
       "    <tr>\n",
       "      <th>3</th>\n",
       "      <td>83</td>\n",
       "      <td>R. L. Findling, R. Mankoski, K. Timko, K. Lear...</td>\n",
       "      <td>NaN</td>\n",
       "      <td>G2:</td>\n",
       "      <td>placebo</td>\n",
       "      <td>placebo</td>\n",
       "      <td>Placebo</td>\n",
       "      <td>NaN</td>\n",
       "      <td>oral</td>\n",
       "      <td>16 weeks</td>\n",
       "      <td>...</td>\n",
       "      <td>NaN</td>\n",
       "      <td>NaN</td>\n",
       "      <td>NaN</td>\n",
       "      <td>NaN</td>\n",
       "      <td>NaN</td>\n",
       "      <td>NaN</td>\n",
       "      <td>NaN</td>\n",
       "      <td>NaN</td>\n",
       "      <td>NaN</td>\n",
       "      <td>NaN</td>\n",
       "    </tr>\n",
       "    <tr>\n",
       "      <th>4</th>\n",
       "      <td>83</td>\n",
       "      <td>R. L. Findling, R. Mankoski, K. Timko, K. Lear...</td>\n",
       "      <td>NaN</td>\n",
       "      <td>G1:</td>\n",
       "      <td>aripiprazole</td>\n",
       "      <td>antipsychotics</td>\n",
       "      <td>Medical</td>\n",
       "      <td>2 - 15mg/day</td>\n",
       "      <td>oral</td>\n",
       "      <td>16 weeks</td>\n",
       "      <td>...</td>\n",
       "      <td>NaN</td>\n",
       "      <td>NaN</td>\n",
       "      <td>NaN</td>\n",
       "      <td>NaN</td>\n",
       "      <td>NaN</td>\n",
       "      <td>NaN</td>\n",
       "      <td>diff=-4.40 (95%CI: -8.82 to 0.02)</td>\n",
       "      <td>G1 Vs G2, p=0.051</td>\n",
       "      <td>NaN</td>\n",
       "      <td>NaN</td>\n",
       "    </tr>\n",
       "  </tbody>\n",
       "</table>\n",
       "<p>5 rows × 75 columns</p>\n",
       "</div>"
      ],
      "text/plain": [
       "  REFID                                           Citation  Child Paper  \\\n",
       "0    83  R. L. Findling, R. Mankoski, K. Timko, K. Lear...          NaN   \n",
       "1    83  R. L. Findling, R. Mankoski, K. Timko, K. Lear...          NaN   \n",
       "2    83  R. L. Findling, R. Mankoski, K. Timko, K. Lear...          NaN   \n",
       "3    83  R. L. Findling, R. Mankoski, K. Timko, K. Lear...          NaN   \n",
       "4    83  R. L. Findling, R. Mankoski, K. Timko, K. Lear...          NaN   \n",
       "\n",
       "  Rx Grouping    Group_Desc        RX_Class Intervention_category  \\\n",
       "0         G1:  aripiprazole  antipsychotics               Medical   \n",
       "1         G2:       placebo         placebo               Placebo   \n",
       "2         G1:  aripiprazole  antipsychotics               Medical   \n",
       "3         G2:       placebo         placebo               Placebo   \n",
       "4         G1:  aripiprazole  antipsychotics               Medical   \n",
       "\n",
       "           Dose Route   Rx_Durn     ...     Change score_Q1 Change score_Q3  \\\n",
       "0  2 - 15mg/day  oral  16 weeks     ...                 NaN             NaN   \n",
       "1           NaN  oral  16 weeks     ...                 NaN             NaN   \n",
       "2  2 - 15mg/day  oral  16 weeks     ...                 NaN             NaN   \n",
       "3           NaN  oral  16 weeks     ...                 NaN             NaN   \n",
       "4  2 - 15mg/day  oral  16 weeks     ...                 NaN             NaN   \n",
       "\n",
       "  Change score Min Change score Max Change score 95% L Change score 95% H  \\\n",
       "0              NaN              NaN                NaN                NaN   \n",
       "1              NaN              NaN                NaN                NaN   \n",
       "2              NaN              NaN                NaN                NaN   \n",
       "3              NaN              NaN                NaN                NaN   \n",
       "4              NaN              NaN                NaN                NaN   \n",
       "\n",
       "                         Other stats            Results  Comments  Comments_2  \n",
       "0   diff=-5.2 (95%CI: -10.2 to -0.2)  G1 Vs G2, p=0.041       NaN         NaN  \n",
       "1                                NaN                NaN       NaN         NaN  \n",
       "2    diff=-1.5 (95%CI: -2.6 to -0.3)  G1 Vs G2, p=0.013       NaN         NaN  \n",
       "3                                NaN                NaN       NaN         NaN  \n",
       "4  diff=-4.40 (95%CI: -8.82 to 0.02)  G1 Vs G2, p=0.051       NaN         NaN  \n",
       "\n",
       "[5 rows x 75 columns]"
      ]
     },
     "execution_count": 3,
     "metadata": {},
     "output_type": "execute_result"
    }
   ],
   "source": [
    "abc_data.head()"
   ]
  },
  {
   "cell_type": "code",
   "execution_count": 4,
   "metadata": {
    "collapsed": false
   },
   "outputs": [
    {
     "data": {
      "text/plain": [
       "Index(['REFID', 'Citation', 'Child Paper', 'Rx Grouping', 'Group_Desc',\n",
       "       'RX_Class', 'Intervention_category', 'Dose', 'Route', 'Rx_Durn',\n",
       "       'OUTC_Main_\\nCATG', 'Outcome_Sub_category', 'Outc_Tool',\n",
       "       'Outcome_specify', 'Outcome_MA', 'REPORTER_RATER',\n",
       "       'Baseline sample size', 'BL_count', 'BL %', 'BL Mean', 'BL SD', 'BL SE',\n",
       "       'BL_Median', 'BL_Q1', 'BL_Q3', 'BL Min', 'BL Max', 'BL 95% L',\n",
       "       'BL 95% H', 'Assessment tmpt', 'sample_size', 'count', ' %', 'Mean',\n",
       "       'SD', 'SE', 'Median', 'Q1', 'Q3', 'Min', 'Max', '95% L', '95% H',\n",
       "       'FUP timepoint ', 'FUP_sample_size', 'FUP_count ', 'FUP _percent ',\n",
       "       'FUP\\n Mean', 'FUP \\nSD', 'FUP \\n SE', 'FUP \\n Median', 'FUP\\n _Q1',\n",
       "       'FUP \\n_Q3', 'FUP\\n  Min', 'FUP \\n Max', 'FUP \\n 95% L', 'FUP \\n 95% H',\n",
       "       'Change score _Describe', 'Change score sample_size',\n",
       "       'Change score_count', 'Change score %', 'Change score Mean',\n",
       "       'Change score SD', 'Change score SE', 'Change score_\\nMedian',\n",
       "       'Change score_Q1', 'Change score_Q3', 'Change score Min',\n",
       "       'Change score Max', 'Change score 95% L', 'Change score 95% H',\n",
       "       'Other stats', 'Results', 'Comments', 'Comments_2'],\n",
       "      dtype='object')"
      ]
     },
     "execution_count": 4,
     "metadata": {},
     "output_type": "execute_result"
    }
   ],
   "source": [
    "abc_data.columns"
   ]
  },
  {
   "cell_type": "code",
   "execution_count": 5,
   "metadata": {
    "collapsed": false
   },
   "outputs": [
    {
     "data": {
      "text/html": [
       "<div>\n",
       "<table border=\"1\" class=\"dataframe\">\n",
       "  <thead>\n",
       "    <tr style=\"text-align: right;\">\n",
       "      <th></th>\n",
       "      <th>sample_size</th>\n",
       "      <th>Baseline sample size</th>\n",
       "      <th>FUP_sample_size</th>\n",
       "      <th>Change score sample_size</th>\n",
       "    </tr>\n",
       "    <tr>\n",
       "      <th>REFID</th>\n",
       "      <th></th>\n",
       "      <th></th>\n",
       "      <th></th>\n",
       "      <th></th>\n",
       "    </tr>\n",
       "  </thead>\n",
       "  <tbody>\n",
       "    <tr>\n",
       "      <th>7</th>\n",
       "      <td>200</td>\n",
       "      <td>250</td>\n",
       "      <td>0</td>\n",
       "      <td>180</td>\n",
       "    </tr>\n",
       "    <tr>\n",
       "      <th>87</th>\n",
       "      <td>155</td>\n",
       "      <td>200</td>\n",
       "      <td>0</td>\n",
       "      <td>0</td>\n",
       "    </tr>\n",
       "    <tr>\n",
       "      <th>107</th>\n",
       "      <td>0</td>\n",
       "      <td>570</td>\n",
       "      <td>0</td>\n",
       "      <td>570</td>\n",
       "    </tr>\n",
       "    <tr>\n",
       "      <th>351</th>\n",
       "      <td>480</td>\n",
       "      <td>480</td>\n",
       "      <td>0</td>\n",
       "      <td>0</td>\n",
       "    </tr>\n",
       "    <tr>\n",
       "      <th>515</th>\n",
       "      <td>0</td>\n",
       "      <td>135</td>\n",
       "      <td>0</td>\n",
       "      <td>125</td>\n",
       "    </tr>\n",
       "    <tr>\n",
       "      <th>204_805</th>\n",
       "      <td>0</td>\n",
       "      <td>476</td>\n",
       "      <td>0</td>\n",
       "      <td>395</td>\n",
       "    </tr>\n",
       "    <tr>\n",
       "      <th>4394_4421_4386_380</th>\n",
       "      <td>530</td>\n",
       "      <td>660</td>\n",
       "      <td>0</td>\n",
       "      <td>0</td>\n",
       "    </tr>\n",
       "    <tr>\n",
       "      <th>4398_4387</th>\n",
       "      <td>245</td>\n",
       "      <td>650</td>\n",
       "      <td>0</td>\n",
       "      <td>385</td>\n",
       "    </tr>\n",
       "    <tr>\n",
       "      <th>4412_4405_4400_4393_4396_4395_4391_4380_1483_412_1605_1745</th>\n",
       "      <td>505</td>\n",
       "      <td>505</td>\n",
       "      <td>0</td>\n",
       "      <td>0</td>\n",
       "    </tr>\n",
       "    <tr>\n",
       "      <th>4423_412_1745</th>\n",
       "      <td>475</td>\n",
       "      <td>620</td>\n",
       "      <td>0</td>\n",
       "      <td>0</td>\n",
       "    </tr>\n",
       "    <tr>\n",
       "      <th>4424_4425_840_2524_1111_713_869</th>\n",
       "      <td>0</td>\n",
       "      <td>1090</td>\n",
       "      <td>0</td>\n",
       "      <td>890</td>\n",
       "    </tr>\n",
       "    <tr>\n",
       "      <th>83</th>\n",
       "      <td>205</td>\n",
       "      <td>425</td>\n",
       "      <td>0</td>\n",
       "      <td>205</td>\n",
       "    </tr>\n",
       "    <tr>\n",
       "      <th>90</th>\n",
       "      <td>250</td>\n",
       "      <td>295</td>\n",
       "      <td>0</td>\n",
       "      <td>0</td>\n",
       "    </tr>\n",
       "  </tbody>\n",
       "</table>\n",
       "</div>"
      ],
      "text/plain": [
       "                                                    sample_size  \\\n",
       "REFID                                                             \n",
       "7                                                           200   \n",
       "87                                                          155   \n",
       "107                                                           0   \n",
       "351                                                         480   \n",
       "515                                                           0   \n",
       "204_805                                                       0   \n",
       "4394_4421_4386_380                                          530   \n",
       "4398_4387                                                   245   \n",
       "4412_4405_4400_4393_4396_4395_4391_4380_1483_41...          505   \n",
       "4423_412_1745                                               475   \n",
       "4424_4425_840_2524_1111_713_869                               0   \n",
       "83                                                          205   \n",
       "90                                                          250   \n",
       "\n",
       "                                                    Baseline sample size  \\\n",
       "REFID                                                                      \n",
       "7                                                                    250   \n",
       "87                                                                   200   \n",
       "107                                                                  570   \n",
       "351                                                                  480   \n",
       "515                                                                  135   \n",
       "204_805                                                              476   \n",
       "4394_4421_4386_380                                                   660   \n",
       "4398_4387                                                            650   \n",
       "4412_4405_4400_4393_4396_4395_4391_4380_1483_41...                   505   \n",
       "4423_412_1745                                                        620   \n",
       "4424_4425_840_2524_1111_713_869                                     1090   \n",
       "83                                                                   425   \n",
       "90                                                                   295   \n",
       "\n",
       "                                                    FUP_sample_size  \\\n",
       "REFID                                                                 \n",
       "7                                                                 0   \n",
       "87                                                                0   \n",
       "107                                                               0   \n",
       "351                                                               0   \n",
       "515                                                               0   \n",
       "204_805                                                           0   \n",
       "4394_4421_4386_380                                                0   \n",
       "4398_4387                                                         0   \n",
       "4412_4405_4400_4393_4396_4395_4391_4380_1483_41...                0   \n",
       "4423_412_1745                                                     0   \n",
       "4424_4425_840_2524_1111_713_869                                   0   \n",
       "83                                                                0   \n",
       "90                                                                0   \n",
       "\n",
       "                                                    Change score sample_size  \n",
       "REFID                                                                         \n",
       "7                                                                        180  \n",
       "87                                                                         0  \n",
       "107                                                                      570  \n",
       "351                                                                        0  \n",
       "515                                                                      125  \n",
       "204_805                                                                  395  \n",
       "4394_4421_4386_380                                                         0  \n",
       "4398_4387                                                                385  \n",
       "4412_4405_4400_4393_4396_4395_4391_4380_1483_41...                         0  \n",
       "4423_412_1745                                                              0  \n",
       "4424_4425_840_2524_1111_713_869                                          890  \n",
       "83                                                                       205  \n",
       "90                                                                         0  "
      ]
     },
     "execution_count": 5,
     "metadata": {},
     "output_type": "execute_result"
    }
   ],
   "source": [
    "(abc_data[abc_data.Outc_Tool=='Aberrant Behavior Checklist']\n",
    "             .groupby('REFID')\n",
    "             .agg({'Baseline sample size' : np.sum, \n",
    "                   'sample_size' : np.sum,\n",
    "                   'FUP_sample_size': np.sum,\n",
    "                   'Change score sample_size': np.sum})).fillna(0).astype(int)"
   ]
  },
  {
   "cell_type": "code",
   "execution_count": 6,
   "metadata": {
    "collapsed": false
   },
   "outputs": [
    {
     "data": {
      "text/plain": [
       "antipsychotics                      60\n",
       "placebo                             51\n",
       "stimulant                           23\n",
       "nutritional supplement              15\n",
       "risp_adjuncts                       10\n",
       "risperidone + placebo               10\n",
       "antipsychotics + parent training     5\n",
       "placebo                              1\n",
       "Name: RX_Class, dtype: int64"
      ]
     },
     "execution_count": 6,
     "metadata": {},
     "output_type": "execute_result"
    }
   ],
   "source": [
    "abc_data.RX_Class.value_counts()"
   ]
  },
  {
   "cell_type": "code",
   "execution_count": 7,
   "metadata": {
    "collapsed": false,
    "scrolled": true
   },
   "outputs": [
    {
     "data": {
      "text/plain": [
       "Placebo                            42\n",
       "Methylphenidate                    23\n",
       "Risperidone                        20\n",
       "Omega-3 fatty acids                15\n",
       "Aripiprazole                       15\n",
       "risperidone                        10\n",
       "aripiprazole                       10\n",
       "placebo                            10\n",
       "risperidone + placebo              10\n",
       "risperidone +  N-acetylcysteine     5\n",
       "risperidone                         5\n",
       "Risperidone + Parent Training       5\n",
       "risperidone + N-Acetylcysteine      5\n",
       "Name: Group_Desc, dtype: int64"
      ]
     },
     "execution_count": 7,
     "metadata": {},
     "output_type": "execute_result"
    }
   ],
   "source": [
    "abc_data.Group_Desc.value_counts()"
   ]
  },
  {
   "cell_type": "code",
   "execution_count": 8,
   "metadata": {
    "collapsed": false
   },
   "outputs": [
    {
     "data": {
      "text/plain": [
       "Aberrent Behavior Checklist - Hyperactivity                 43\n",
       "Aberrent Behavior Checklist - Irritability                  33\n",
       "Aberrent Behavior Checklist - Inappropriate Speech          33\n",
       "Aberrent Behavior Checklist - Social Withdrawal/Lethargy    33\n",
       "Aberrent Behavior Checklist - Stereotypic Behavior          33\n",
       "Name: Outcome_MA, dtype: int64"
      ]
     },
     "execution_count": 8,
     "metadata": {},
     "output_type": "execute_result"
    }
   ],
   "source": [
    "abc_data.Outcome_MA.value_counts()"
   ]
  },
  {
   "cell_type": "code",
   "execution_count": 9,
   "metadata": {
    "collapsed": false
   },
   "outputs": [],
   "source": [
    "abc_data = abc_data.replace({'Group_Desc':{'placebo':'Placebo',\n",
    "             'Placebo ':'Placebo',\n",
    "             'Placebo (flexibly dosed study)':'Placebo',\n",
    "             'Placebo-substitution':'Placebo',\n",
    "             'Placebo (fixed-dose study)':'Placebo',\n",
    "             'risperidone high dose':'Risperidone',\n",
    "             'risperidone low dose':'Risperidone',\n",
    "             'risperidone':'Risperidone',\n",
    "             'aripiprazole':'Aripiprazole',\n",
    "             'Aripiprazole 15 mg/kg':'Aripiprazole',\n",
    "             'Risperidone ':'Risperidone',\n",
    "             'risperidone':'Risperidone',\n",
    "             'risperidone ':'Risperidone',\n",
    "             'risperidone + N-Acetylcysteine':'Risperidone + N-Acetylcysteine',\n",
    "             'risperidone +  N-acetylcysteine':'Risperidone + N-Acetylcysteine'},\n",
    "                 'RX_Class':{'placebo ':'placebo'}})"
   ]
  },
  {
   "cell_type": "code",
   "execution_count": 10,
   "metadata": {
    "collapsed": false
   },
   "outputs": [
    {
     "data": {
      "text/plain": [
       "Risperidone     35\n",
       "Aripiprazole    25\n",
       "Name: Group_Desc, dtype: int64"
      ]
     },
     "execution_count": 10,
     "metadata": {},
     "output_type": "execute_result"
    }
   ],
   "source": [
    "abc_data[abc_data.RX_Class=='antipsychotics'].Group_Desc.value_counts()"
   ]
  },
  {
   "cell_type": "markdown",
   "metadata": {},
   "source": [
    "Extract columns and rows of interest"
   ]
  },
  {
   "cell_type": "code",
   "execution_count": 11,
   "metadata": {
    "collapsed": true
   },
   "outputs": [],
   "source": [
    "analysis_subset = ['REFID', 'Group_Desc', 'RX_Class', 'Intervention_category', 'Dose', 'Route', 'Rx_Durn',\n",
    "       'Outcome_MA', 'Baseline sample size', 'BL Mean', 'BL SD', \n",
    "       'sample_size', 'Mean', 'SD', \n",
    "       'Change score sample_size', 'Change score Mean', 'Change score SD']"
   ]
  },
  {
   "cell_type": "code",
   "execution_count": 12,
   "metadata": {
    "collapsed": false
   },
   "outputs": [],
   "source": [
    "abc_outcomes = abc_data.Outcome_MA.value_counts().index.values[:-1]\n",
    "abc_rows = abc_data.Outcome_MA.isin(abc_outcomes)\n",
    "abc_subset = abc_data.loc[abc_rows, analysis_subset]"
   ]
  },
  {
   "cell_type": "code",
   "execution_count": 13,
   "metadata": {
    "collapsed": false
   },
   "outputs": [],
   "source": [
    "baseline_present = (abc_subset['BL Mean'].notnull() & abc_subset['BL SD'].notnull())\n",
    "endpoint_present = (abc_subset['Mean'].notnull() & abc_subset['SD'].notnull())\n",
    "change_present = (abc_subset['Change score Mean'].notnull() &  \n",
    "                                               abc_subset['Change score SD'].notnull())\n",
    "antipsych_subset = abc_subset[baseline_present & (endpoint_present | change_present) \n",
    "                             & abc_subset.Group_Desc.isin(['Placebo', 'Risperidone', \n",
    "                                              'Aripiprazole'])]"
   ]
  },
  {
   "cell_type": "markdown",
   "metadata": {},
   "source": [
    "## Antipsychotics meta-analysis"
   ]
  },
  {
   "cell_type": "code",
   "execution_count": 14,
   "metadata": {
    "collapsed": false
   },
   "outputs": [
    {
     "data": {
      "text/plain": [
       "Index(['REFID', 'Group_Desc', 'RX_Class', 'Intervention_category', 'Dose',\n",
       "       'Route', 'Rx_Durn', 'Outcome_MA', 'Baseline sample size', 'BL Mean',\n",
       "       'BL SD', 'sample_size', 'Mean', 'SD', 'Change score sample_size',\n",
       "       'Change score Mean', 'Change score SD'],\n",
       "      dtype='object')"
      ]
     },
     "execution_count": 14,
     "metadata": {},
     "output_type": "execute_result"
    }
   ],
   "source": [
    "antipsych_subset.columns"
   ]
  },
  {
   "cell_type": "code",
   "execution_count": 15,
   "metadata": {
    "collapsed": false
   },
   "outputs": [
    {
     "data": {
      "text/plain": [
       "Aberrent Behavior Checklist - Hyperactivity                 17\n",
       "Aberrent Behavior Checklist - Inappropriate Speech          15\n",
       "Aberrent Behavior Checklist - Irritability                  15\n",
       "Aberrent Behavior Checklist - Social Withdrawal/Lethargy    15\n",
       "Name: Outcome_MA, dtype: int64"
      ]
     },
     "execution_count": 15,
     "metadata": {},
     "output_type": "execute_result"
    }
   ],
   "source": [
    "antipsych_subset.Outcome_MA.value_counts()"
   ]
  },
  {
   "cell_type": "code",
   "execution_count": 16,
   "metadata": {
    "collapsed": false
   },
   "outputs": [
    {
     "data": {
      "text/plain": [
       "Placebo         30\n",
       "Risperidone     28\n",
       "Aripiprazole     4\n",
       "Name: Group_Desc, dtype: int64"
      ]
     },
     "execution_count": 16,
     "metadata": {},
     "output_type": "execute_result"
    }
   ],
   "source": [
    "antipsych_subset.Group_Desc.value_counts()"
   ]
  },
  {
   "cell_type": "markdown",
   "metadata": {},
   "source": [
    "Looks like only sufficient results for risperidone, so will focus on that."
   ]
  },
  {
   "cell_type": "code",
   "execution_count": 17,
   "metadata": {
    "collapsed": false
   },
   "outputs": [],
   "source": [
    "antipsych_subset = antipsych_subset[antipsych_subset.Group_Desc!='Aripiprazole']"
   ]
  },
  {
   "cell_type": "code",
   "execution_count": 18,
   "metadata": {
    "collapsed": false,
    "scrolled": true
   },
   "outputs": [
    {
     "data": {
      "text/html": [
       "<div>\n",
       "<table border=\"1\" class=\"dataframe\">\n",
       "  <thead>\n",
       "    <tr style=\"text-align: right;\">\n",
       "      <th>Outcome_MA</th>\n",
       "      <th>Aberrent Behavior Checklist - Hyperactivity</th>\n",
       "      <th>Aberrent Behavior Checklist - Inappropriate Speech</th>\n",
       "      <th>Aberrent Behavior Checklist - Irritability</th>\n",
       "      <th>Aberrent Behavior Checklist - Social Withdrawal/Lethargy</th>\n",
       "    </tr>\n",
       "    <tr>\n",
       "      <th>Group_Desc</th>\n",
       "      <th></th>\n",
       "      <th></th>\n",
       "      <th></th>\n",
       "      <th></th>\n",
       "    </tr>\n",
       "  </thead>\n",
       "  <tbody>\n",
       "    <tr>\n",
       "      <th>Placebo</th>\n",
       "      <td>353</td>\n",
       "      <td>222</td>\n",
       "      <td>221</td>\n",
       "      <td>222</td>\n",
       "    </tr>\n",
       "    <tr>\n",
       "      <th>Risperidone</th>\n",
       "      <td>253</td>\n",
       "      <td>254</td>\n",
       "      <td>249</td>\n",
       "      <td>254</td>\n",
       "    </tr>\n",
       "  </tbody>\n",
       "</table>\n",
       "</div>"
      ],
      "text/plain": [
       "Outcome_MA   Aberrent Behavior Checklist - Hyperactivity  \\\n",
       "Group_Desc                                                 \n",
       "Placebo                                              353   \n",
       "Risperidone                                          253   \n",
       "\n",
       "Outcome_MA   Aberrent Behavior Checklist - Inappropriate Speech  \\\n",
       "Group_Desc                                                        \n",
       "Placebo                                                    222    \n",
       "Risperidone                                                254    \n",
       "\n",
       "Outcome_MA   Aberrent Behavior Checklist - Irritability  \\\n",
       "Group_Desc                                                \n",
       "Placebo                                             221   \n",
       "Risperidone                                         249   \n",
       "\n",
       "Outcome_MA   Aberrent Behavior Checklist - Social Withdrawal/Lethargy  \n",
       "Group_Desc                                                             \n",
       "Placebo                                                    222         \n",
       "Risperidone                                                254         "
      ]
     },
     "execution_count": 18,
     "metadata": {},
     "output_type": "execute_result"
    }
   ],
   "source": [
    "antipsych_subset.pivot_table(values='Baseline sample size', columns='Outcome_MA', index='Group_Desc', \n",
    "                      aggfunc='sum').fillna(0).astype(int)"
   ]
  },
  {
   "cell_type": "code",
   "execution_count": 19,
   "metadata": {
    "collapsed": false
   },
   "outputs": [],
   "source": [
    "antipsych_subset['treat'] = antipsych_subset.Group_Desc.replace({'Risperidone':1, 'Placebo':0})"
   ]
  },
  {
   "cell_type": "code",
   "execution_count": 21,
   "metadata": {
    "collapsed": false
   },
   "outputs": [
    {
     "data": {
      "text/plain": [
       "(0, 50)"
      ]
     },
     "execution_count": 21,
     "metadata": {},
     "output_type": "execute_result"
    },
    {
     "data": {
      "image/png": "[encoded data removed]",
      "text/plain": [
       "<matplotlib.figure.Figure at 0x115ae6240>"
      ]
     },
     "metadata": {},
     "output_type": "display_data"
    }
   ],
   "source": [
    "antipsych_subset.groupby('Outcome_MA')['BL Mean'].plot(kind='kde', legend=True)\n",
    "plt.xlim(0, 50)"
   ]
  },
  {
   "cell_type": "code",
   "execution_count": 22,
   "metadata": {
    "collapsed": false
   },
   "outputs": [
    {
     "data": {
      "text/plain": [
       "(0, 50)"
      ]
     },
     "execution_count": 22,
     "metadata": {},
     "output_type": "execute_result"
    },
    {
     "data": {
      "image/png": "[encoded data removed]",
      "text/plain": [
       "<matplotlib.figure.Figure at 0x115b46e48>"
      ]
     },
     "metadata": {},
     "output_type": "display_data"
    }
   ],
   "source": [
    "antipsych_subset.groupby('Outcome_MA')['Mean'].plot(kind='kde', legend=True)\n",
    "plt.xlim(0, 50)"
   ]
  },
  {
   "cell_type": "code",
   "execution_count": 23,
   "metadata": {
    "collapsed": false
   },
   "outputs": [
    {
     "data": {
      "text/html": [
       "<div>\n",
       "<table border=\"1\" class=\"dataframe\">\n",
       "  <thead>\n",
       "    <tr style=\"text-align: right;\">\n",
       "      <th></th>\n",
       "      <th>REFID</th>\n",
       "      <th>Group_Desc</th>\n",
       "    </tr>\n",
       "  </thead>\n",
       "  <tbody>\n",
       "    <tr>\n",
       "      <th>11</th>\n",
       "      <td>90</td>\n",
       "      <td>Risperidone</td>\n",
       "    </tr>\n",
       "    <tr>\n",
       "      <th>13</th>\n",
       "      <td>90</td>\n",
       "      <td>Risperidone</td>\n",
       "    </tr>\n",
       "    <tr>\n",
       "      <th>15</th>\n",
       "      <td>90</td>\n",
       "      <td>Risperidone</td>\n",
       "    </tr>\n",
       "    <tr>\n",
       "      <th>17</th>\n",
       "      <td>90</td>\n",
       "      <td>Risperidone</td>\n",
       "    </tr>\n",
       "    <tr>\n",
       "      <th>20</th>\n",
       "      <td>204_805</td>\n",
       "      <td>Risperidone</td>\n",
       "    </tr>\n",
       "    <tr>\n",
       "      <th>21</th>\n",
       "      <td>204_805</td>\n",
       "      <td>Risperidone</td>\n",
       "    </tr>\n",
       "    <tr>\n",
       "      <th>22</th>\n",
       "      <td>204_805</td>\n",
       "      <td>Placebo</td>\n",
       "    </tr>\n",
       "    <tr>\n",
       "      <th>23</th>\n",
       "      <td>204_805</td>\n",
       "      <td>Risperidone</td>\n",
       "    </tr>\n",
       "    <tr>\n",
       "      <th>24</th>\n",
       "      <td>204_805</td>\n",
       "      <td>Risperidone</td>\n",
       "    </tr>\n",
       "    <tr>\n",
       "      <th>25</th>\n",
       "      <td>204_805</td>\n",
       "      <td>Placebo</td>\n",
       "    </tr>\n",
       "    <tr>\n",
       "      <th>26</th>\n",
       "      <td>204_805</td>\n",
       "      <td>Risperidone</td>\n",
       "    </tr>\n",
       "    <tr>\n",
       "      <th>27</th>\n",
       "      <td>204_805</td>\n",
       "      <td>Risperidone</td>\n",
       "    </tr>\n",
       "    <tr>\n",
       "      <th>28</th>\n",
       "      <td>204_805</td>\n",
       "      <td>Placebo</td>\n",
       "    </tr>\n",
       "    <tr>\n",
       "      <th>29</th>\n",
       "      <td>204_805</td>\n",
       "      <td>Risperidone</td>\n",
       "    </tr>\n",
       "    <tr>\n",
       "      <th>30</th>\n",
       "      <td>204_805</td>\n",
       "      <td>Risperidone</td>\n",
       "    </tr>\n",
       "    <tr>\n",
       "      <th>31</th>\n",
       "      <td>204_805</td>\n",
       "      <td>Placebo</td>\n",
       "    </tr>\n",
       "    <tr>\n",
       "      <th>35</th>\n",
       "      <td>4398_4387</td>\n",
       "      <td>Risperidone</td>\n",
       "    </tr>\n",
       "    <tr>\n",
       "      <th>36</th>\n",
       "      <td>4398_4387</td>\n",
       "      <td>Placebo</td>\n",
       "    </tr>\n",
       "    <tr>\n",
       "      <th>37</th>\n",
       "      <td>4398_4387</td>\n",
       "      <td>Risperidone</td>\n",
       "    </tr>\n",
       "    <tr>\n",
       "      <th>38</th>\n",
       "      <td>4398_4387</td>\n",
       "      <td>Placebo</td>\n",
       "    </tr>\n",
       "    <tr>\n",
       "      <th>39</th>\n",
       "      <td>4398_4387</td>\n",
       "      <td>Risperidone</td>\n",
       "    </tr>\n",
       "    <tr>\n",
       "      <th>40</th>\n",
       "      <td>4398_4387</td>\n",
       "      <td>Placebo</td>\n",
       "    </tr>\n",
       "    <tr>\n",
       "      <th>41</th>\n",
       "      <td>4398_4387</td>\n",
       "      <td>Risperidone</td>\n",
       "    </tr>\n",
       "    <tr>\n",
       "      <th>42</th>\n",
       "      <td>4398_4387</td>\n",
       "      <td>Placebo</td>\n",
       "    </tr>\n",
       "    <tr>\n",
       "      <th>43</th>\n",
       "      <td>4398_4387</td>\n",
       "      <td>Risperidone</td>\n",
       "    </tr>\n",
       "    <tr>\n",
       "      <th>44</th>\n",
       "      <td>4398_4387</td>\n",
       "      <td>Placebo</td>\n",
       "    </tr>\n",
       "    <tr>\n",
       "      <th>45</th>\n",
       "      <td>4398_4387</td>\n",
       "      <td>Risperidone</td>\n",
       "    </tr>\n",
       "    <tr>\n",
       "      <th>46</th>\n",
       "      <td>4398_4387</td>\n",
       "      <td>Placebo</td>\n",
       "    </tr>\n",
       "    <tr>\n",
       "      <th>47</th>\n",
       "      <td>4398_4387</td>\n",
       "      <td>Risperidone</td>\n",
       "    </tr>\n",
       "    <tr>\n",
       "      <th>48</th>\n",
       "      <td>4398_4387</td>\n",
       "      <td>Placebo</td>\n",
       "    </tr>\n",
       "    <tr>\n",
       "      <th>49</th>\n",
       "      <td>4398_4387</td>\n",
       "      <td>Risperidone</td>\n",
       "    </tr>\n",
       "    <tr>\n",
       "      <th>50</th>\n",
       "      <td>4398_4387</td>\n",
       "      <td>Placebo</td>\n",
       "    </tr>\n",
       "    <tr>\n",
       "      <th>55</th>\n",
       "      <td>4412_4405_4400_4393_4396_4395_4391_4380_1483_4...</td>\n",
       "      <td>Risperidone</td>\n",
       "    </tr>\n",
       "    <tr>\n",
       "      <th>56</th>\n",
       "      <td>4412_4405_4400_4393_4396_4395_4391_4380_1483_4...</td>\n",
       "      <td>Placebo</td>\n",
       "    </tr>\n",
       "    <tr>\n",
       "      <th>57</th>\n",
       "      <td>4412_4405_4400_4393_4396_4395_4391_4380_1483_4...</td>\n",
       "      <td>Risperidone</td>\n",
       "    </tr>\n",
       "    <tr>\n",
       "      <th>58</th>\n",
       "      <td>4412_4405_4400_4393_4396_4395_4391_4380_1483_4...</td>\n",
       "      <td>Placebo</td>\n",
       "    </tr>\n",
       "    <tr>\n",
       "      <th>59</th>\n",
       "      <td>4412_4405_4400_4393_4396_4395_4391_4380_1483_4...</td>\n",
       "      <td>Risperidone</td>\n",
       "    </tr>\n",
       "    <tr>\n",
       "      <th>60</th>\n",
       "      <td>4412_4405_4400_4393_4396_4395_4391_4380_1483_4...</td>\n",
       "      <td>Placebo</td>\n",
       "    </tr>\n",
       "    <tr>\n",
       "      <th>61</th>\n",
       "      <td>4412_4405_4400_4393_4396_4395_4391_4380_1483_4...</td>\n",
       "      <td>Risperidone</td>\n",
       "    </tr>\n",
       "    <tr>\n",
       "      <th>62</th>\n",
       "      <td>4412_4405_4400_4393_4396_4395_4391_4380_1483_4...</td>\n",
       "      <td>Placebo</td>\n",
       "    </tr>\n",
       "    <tr>\n",
       "      <th>65</th>\n",
       "      <td>4423_412_1745</td>\n",
       "      <td>Risperidone</td>\n",
       "    </tr>\n",
       "    <tr>\n",
       "      <th>67</th>\n",
       "      <td>4423_412_1745</td>\n",
       "      <td>Risperidone</td>\n",
       "    </tr>\n",
       "    <tr>\n",
       "      <th>69</th>\n",
       "      <td>4423_412_1745</td>\n",
       "      <td>Risperidone</td>\n",
       "    </tr>\n",
       "    <tr>\n",
       "      <th>71</th>\n",
       "      <td>4423_412_1745</td>\n",
       "      <td>Risperidone</td>\n",
       "    </tr>\n",
       "    <tr>\n",
       "      <th>96</th>\n",
       "      <td>107</td>\n",
       "      <td>Placebo</td>\n",
       "    </tr>\n",
       "    <tr>\n",
       "      <th>98</th>\n",
       "      <td>107</td>\n",
       "      <td>Placebo</td>\n",
       "    </tr>\n",
       "    <tr>\n",
       "      <th>100</th>\n",
       "      <td>107</td>\n",
       "      <td>Placebo</td>\n",
       "    </tr>\n",
       "    <tr>\n",
       "      <th>102</th>\n",
       "      <td>107</td>\n",
       "      <td>Placebo</td>\n",
       "    </tr>\n",
       "    <tr>\n",
       "      <th>104</th>\n",
       "      <td>107</td>\n",
       "      <td>Placebo</td>\n",
       "    </tr>\n",
       "    <tr>\n",
       "      <th>106</th>\n",
       "      <td>107</td>\n",
       "      <td>Placebo</td>\n",
       "    </tr>\n",
       "    <tr>\n",
       "      <th>108</th>\n",
       "      <td>107</td>\n",
       "      <td>Placebo</td>\n",
       "    </tr>\n",
       "    <tr>\n",
       "      <th>110</th>\n",
       "      <td>107</td>\n",
       "      <td>Placebo</td>\n",
       "    </tr>\n",
       "    <tr>\n",
       "      <th>116</th>\n",
       "      <td>515</td>\n",
       "      <td>Placebo</td>\n",
       "    </tr>\n",
       "    <tr>\n",
       "      <th>118</th>\n",
       "      <td>515</td>\n",
       "      <td>Placebo</td>\n",
       "    </tr>\n",
       "    <tr>\n",
       "      <th>120</th>\n",
       "      <td>515</td>\n",
       "      <td>Placebo</td>\n",
       "    </tr>\n",
       "    <tr>\n",
       "      <th>122</th>\n",
       "      <td>515</td>\n",
       "      <td>Placebo</td>\n",
       "    </tr>\n",
       "    <tr>\n",
       "      <th>169</th>\n",
       "      <td>4394_4421_4386_380</td>\n",
       "      <td>Placebo</td>\n",
       "    </tr>\n",
       "    <tr>\n",
       "      <th>174</th>\n",
       "      <td>4394_4421_4386_380</td>\n",
       "      <td>Placebo</td>\n",
       "    </tr>\n",
       "  </tbody>\n",
       "</table>\n",
       "</div>"
      ],
      "text/plain": [
       "                                                 REFID   Group_Desc\n",
       "11                                                  90  Risperidone\n",
       "13                                                  90  Risperidone\n",
       "15                                                  90  Risperidone\n",
       "17                                                  90  Risperidone\n",
       "20                                             204_805  Risperidone\n",
       "21                                             204_805  Risperidone\n",
       "22                                             204_805      Placebo\n",
       "23                                             204_805  Risperidone\n",
       "24                                             204_805  Risperidone\n",
       "25                                             204_805      Placebo\n",
       "26                                             204_805  Risperidone\n",
       "27                                             204_805  Risperidone\n",
       "28                                             204_805      Placebo\n",
       "29                                             204_805  Risperidone\n",
       "30                                             204_805  Risperidone\n",
       "31                                             204_805      Placebo\n",
       "35                                           4398_4387  Risperidone\n",
       "36                                           4398_4387      Placebo\n",
       "37                                           4398_4387  Risperidone\n",
       "38                                           4398_4387      Placebo\n",
       "39                                           4398_4387  Risperidone\n",
       "40                                           4398_4387      Placebo\n",
       "41                                           4398_4387  Risperidone\n",
       "42                                           4398_4387      Placebo\n",
       "43                                           4398_4387  Risperidone\n",
       "44                                           4398_4387      Placebo\n",
       "45                                           4398_4387  Risperidone\n",
       "46                                           4398_4387      Placebo\n",
       "47                                           4398_4387  Risperidone\n",
       "48                                           4398_4387      Placebo\n",
       "49                                           4398_4387  Risperidone\n",
       "50                                           4398_4387      Placebo\n",
       "55   4412_4405_4400_4393_4396_4395_4391_4380_1483_4...  Risperidone\n",
       "56   4412_4405_4400_4393_4396_4395_4391_4380_1483_4...      Placebo\n",
       "57   4412_4405_4400_4393_4396_4395_4391_4380_1483_4...  Risperidone\n",
       "58   4412_4405_4400_4393_4396_4395_4391_4380_1483_4...      Placebo\n",
       "59   4412_4405_4400_4393_4396_4395_4391_4380_1483_4...  Risperidone\n",
       "60   4412_4405_4400_4393_4396_4395_4391_4380_1483_4...      Placebo\n",
       "61   4412_4405_4400_4393_4396_4395_4391_4380_1483_4...  Risperidone\n",
       "62   4412_4405_4400_4393_4396_4395_4391_4380_1483_4...      Placebo\n",
       "65                                       4423_412_1745  Risperidone\n",
       "67                                       4423_412_1745  Risperidone\n",
       "69                                       4423_412_1745  Risperidone\n",
       "71                                       4423_412_1745  Risperidone\n",
       "96                                                 107      Placebo\n",
       "98                                                 107      Placebo\n",
       "100                                                107      Placebo\n",
       "102                                                107      Placebo\n",
       "104                                                107      Placebo\n",
       "106                                                107      Placebo\n",
       "108                                                107      Placebo\n",
       "110                                                107      Placebo\n",
       "116                                                515      Placebo\n",
       "118                                                515      Placebo\n",
       "120                                                515      Placebo\n",
       "122                                                515      Placebo\n",
       "169                                 4394_4421_4386_380      Placebo\n",
       "174                                 4394_4421_4386_380      Placebo"
      ]
     },
     "execution_count": 23,
     "metadata": {},
     "output_type": "execute_result"
    }
   ],
   "source": [
    "antipsych_subset[['REFID', 'Group_Desc']]"
   ]
  },
  {
   "cell_type": "markdown",
   "metadata": {},
   "source": [
    "Restrict subset to studies that have placebo and risperidone arms"
   ]
  },
  {
   "cell_type": "code",
   "execution_count": 24,
   "metadata": {
    "collapsed": false
   },
   "outputs": [],
   "source": [
    "contains_both = (antipsych_subset.groupby('REFID')\n",
    "                 .apply(lambda x: (x.Group_Desc=='Placebo').any() & (x.Group_Desc=='Risperidone').any()))"
   ]
  },
  {
   "cell_type": "code",
   "execution_count": 25,
   "metadata": {
    "collapsed": false
   },
   "outputs": [],
   "source": [
    "risp_placebo = antipsych_subset.REFID.unique()[contains_both]"
   ]
  },
  {
   "cell_type": "code",
   "execution_count": 26,
   "metadata": {
    "collapsed": false
   },
   "outputs": [],
   "source": [
    "antipsych_subset = antipsych_subset[antipsych_subset.REFID.isin(risp_placebo)]"
   ]
  },
  {
   "cell_type": "code",
   "execution_count": 37,
   "metadata": {
    "collapsed": false
   },
   "outputs": [
    {
     "data": {
      "text/plain": [
       "array(['Aberrent Behavior Checklist - Hyperactivity',\n",
       "       'Aberrent Behavior Checklist - Inappropriate Speech',\n",
       "       'Aberrent Behavior Checklist - Irritability',\n",
       "       'Aberrent Behavior Checklist - Social Withdrawal/Lethargy'], dtype=object)"
      ]
     },
     "execution_count": 37,
     "metadata": {},
     "output_type": "execute_result"
    }
   ],
   "source": [
    "antipsych_outcomes = antipsych_subset.Outcome_MA.unique()\n",
    "antipsych_outcomes"
   ]
  },
  {
   "cell_type": "code",
   "execution_count": 34,
   "metadata": {
    "collapsed": false
   },
   "outputs": [
    {
     "data": {
      "text/plain": [
       "3"
      ]
     },
     "execution_count": 34,
     "metadata": {},
     "output_type": "execute_result"
    }
   ],
   "source": [
    "n_outcomes = len(antipsych_outcomes)\n",
    "unique_studies = antipsych_subset.REFID.unique()\n",
    "n_studies = len(unique_studies)\n",
    "n_studies"
   ]
  },
  {
   "cell_type": "code",
   "execution_count": 38,
   "metadata": {
    "collapsed": false
   },
   "outputs": [],
   "source": [
    "antipsych_subset['outcome'] = antipsych_subset.Outcome_MA.replace({'Aberrent Behavior Checklist - Hyperactivity':0,\n",
    "                                    'Aberrent Behavior Checklist - Social Withdrawal/Lethargy':1,\n",
    "                                    'Aberrent Behavior Checklist - Irritability':2,\n",
    "                                    'Aberrent Behavior Checklist - Inappropriate Speech':3})"
   ]
  },
  {
   "cell_type": "code",
   "execution_count": 39,
   "metadata": {
    "collapsed": false
   },
   "outputs": [],
   "source": [
    "antipsych_subset['study_index'] = antipsych_subset.REFID.apply(lambda x: np.where(unique_studies==x)[0][0])"
   ]
  },
  {
   "cell_type": "code",
   "execution_count": 40,
   "metadata": {
    "collapsed": false
   },
   "outputs": [
    {
     "data": {
      "text/html": [
       "<div>\n",
       "<table border=\"1\" class=\"dataframe\">\n",
       "  <thead>\n",
       "    <tr style=\"text-align: right;\">\n",
       "      <th></th>\n",
       "      <th>study_index</th>\n",
       "      <th>treat</th>\n",
       "      <th>outcome</th>\n",
       "      <th>Baseline sample size</th>\n",
       "      <th>BL Mean</th>\n",
       "      <th>BL SD</th>\n",
       "    </tr>\n",
       "  </thead>\n",
       "  <tbody>\n",
       "    <tr>\n",
       "      <th>35</th>\n",
       "      <td>0</td>\n",
       "      <td>1</td>\n",
       "      <td>0</td>\n",
       "      <td>39</td>\n",
       "      <td>13.70</td>\n",
       "      <td>7.00</td>\n",
       "    </tr>\n",
       "    <tr>\n",
       "      <th>36</th>\n",
       "      <td>0</td>\n",
       "      <td>0</td>\n",
       "      <td>0</td>\n",
       "      <td>38</td>\n",
       "      <td>14.30</td>\n",
       "      <td>8.20</td>\n",
       "    </tr>\n",
       "    <tr>\n",
       "      <th>37</th>\n",
       "      <td>0</td>\n",
       "      <td>1</td>\n",
       "      <td>0</td>\n",
       "      <td>25</td>\n",
       "      <td>29.20</td>\n",
       "      <td>9.50</td>\n",
       "    </tr>\n",
       "    <tr>\n",
       "      <th>38</th>\n",
       "      <td>0</td>\n",
       "      <td>0</td>\n",
       "      <td>0</td>\n",
       "      <td>27</td>\n",
       "      <td>33.60</td>\n",
       "      <td>6.80</td>\n",
       "    </tr>\n",
       "    <tr>\n",
       "      <th>39</th>\n",
       "      <td>0</td>\n",
       "      <td>1</td>\n",
       "      <td>3</td>\n",
       "      <td>39</td>\n",
       "      <td>7.90</td>\n",
       "      <td>5.00</td>\n",
       "    </tr>\n",
       "    <tr>\n",
       "      <th>40</th>\n",
       "      <td>0</td>\n",
       "      <td>0</td>\n",
       "      <td>3</td>\n",
       "      <td>38</td>\n",
       "      <td>8.10</td>\n",
       "      <td>5.60</td>\n",
       "    </tr>\n",
       "    <tr>\n",
       "      <th>41</th>\n",
       "      <td>0</td>\n",
       "      <td>1</td>\n",
       "      <td>3</td>\n",
       "      <td>26</td>\n",
       "      <td>4.50</td>\n",
       "      <td>3.70</td>\n",
       "    </tr>\n",
       "    <tr>\n",
       "      <th>42</th>\n",
       "      <td>0</td>\n",
       "      <td>0</td>\n",
       "      <td>3</td>\n",
       "      <td>28</td>\n",
       "      <td>4.50</td>\n",
       "      <td>3.70</td>\n",
       "    </tr>\n",
       "    <tr>\n",
       "      <th>43</th>\n",
       "      <td>0</td>\n",
       "      <td>1</td>\n",
       "      <td>2</td>\n",
       "      <td>39</td>\n",
       "      <td>18.90</td>\n",
       "      <td>8.80</td>\n",
       "    </tr>\n",
       "    <tr>\n",
       "      <th>44</th>\n",
       "      <td>0</td>\n",
       "      <td>0</td>\n",
       "      <td>2</td>\n",
       "      <td>38</td>\n",
       "      <td>21.20</td>\n",
       "      <td>9.70</td>\n",
       "    </tr>\n",
       "    <tr>\n",
       "      <th>45</th>\n",
       "      <td>0</td>\n",
       "      <td>1</td>\n",
       "      <td>2</td>\n",
       "      <td>24</td>\n",
       "      <td>20.60</td>\n",
       "      <td>8.10</td>\n",
       "    </tr>\n",
       "    <tr>\n",
       "      <th>46</th>\n",
       "      <td>0</td>\n",
       "      <td>0</td>\n",
       "      <td>2</td>\n",
       "      <td>28</td>\n",
       "      <td>21.60</td>\n",
       "      <td>10.20</td>\n",
       "    </tr>\n",
       "    <tr>\n",
       "      <th>47</th>\n",
       "      <td>0</td>\n",
       "      <td>1</td>\n",
       "      <td>1</td>\n",
       "      <td>39</td>\n",
       "      <td>27.30</td>\n",
       "      <td>9.70</td>\n",
       "    </tr>\n",
       "    <tr>\n",
       "      <th>48</th>\n",
       "      <td>0</td>\n",
       "      <td>0</td>\n",
       "      <td>1</td>\n",
       "      <td>38</td>\n",
       "      <td>30.90</td>\n",
       "      <td>8.80</td>\n",
       "    </tr>\n",
       "    <tr>\n",
       "      <th>49</th>\n",
       "      <td>0</td>\n",
       "      <td>1</td>\n",
       "      <td>1</td>\n",
       "      <td>26</td>\n",
       "      <td>14.00</td>\n",
       "      <td>6.80</td>\n",
       "    </tr>\n",
       "    <tr>\n",
       "      <th>50</th>\n",
       "      <td>0</td>\n",
       "      <td>0</td>\n",
       "      <td>1</td>\n",
       "      <td>28</td>\n",
       "      <td>13.60</td>\n",
       "      <td>8.60</td>\n",
       "    </tr>\n",
       "    <tr>\n",
       "      <th>65</th>\n",
       "      <td>1</td>\n",
       "      <td>1</td>\n",
       "      <td>0</td>\n",
       "      <td>49</td>\n",
       "      <td>36.10</td>\n",
       "      <td>6.86</td>\n",
       "    </tr>\n",
       "    <tr>\n",
       "      <th>67</th>\n",
       "      <td>1</td>\n",
       "      <td>1</td>\n",
       "      <td>3</td>\n",
       "      <td>49</td>\n",
       "      <td>6.37</td>\n",
       "      <td>4.03</td>\n",
       "    </tr>\n",
       "    <tr>\n",
       "      <th>69</th>\n",
       "      <td>1</td>\n",
       "      <td>1</td>\n",
       "      <td>2</td>\n",
       "      <td>49</td>\n",
       "      <td>29.70</td>\n",
       "      <td>6.10</td>\n",
       "    </tr>\n",
       "    <tr>\n",
       "      <th>71</th>\n",
       "      <td>1</td>\n",
       "      <td>1</td>\n",
       "      <td>1</td>\n",
       "      <td>49</td>\n",
       "      <td>17.10</td>\n",
       "      <td>8.37</td>\n",
       "    </tr>\n",
       "    <tr>\n",
       "      <th>96</th>\n",
       "      <td>2</td>\n",
       "      <td>0</td>\n",
       "      <td>0</td>\n",
       "      <td>28</td>\n",
       "      <td>28.10</td>\n",
       "      <td>7.60</td>\n",
       "    </tr>\n",
       "    <tr>\n",
       "      <th>98</th>\n",
       "      <td>2</td>\n",
       "      <td>0</td>\n",
       "      <td>0</td>\n",
       "      <td>28</td>\n",
       "      <td>14.60</td>\n",
       "      <td>10.40</td>\n",
       "    </tr>\n",
       "    <tr>\n",
       "      <th>100</th>\n",
       "      <td>2</td>\n",
       "      <td>0</td>\n",
       "      <td>3</td>\n",
       "      <td>28</td>\n",
       "      <td>5.80</td>\n",
       "      <td>2.80</td>\n",
       "    </tr>\n",
       "    <tr>\n",
       "      <th>102</th>\n",
       "      <td>2</td>\n",
       "      <td>0</td>\n",
       "      <td>3</td>\n",
       "      <td>28</td>\n",
       "      <td>3.10</td>\n",
       "      <td>3.30</td>\n",
       "    </tr>\n",
       "    <tr>\n",
       "      <th>104</th>\n",
       "      <td>2</td>\n",
       "      <td>0</td>\n",
       "      <td>2</td>\n",
       "      <td>28</td>\n",
       "      <td>16.80</td>\n",
       "      <td>8.30</td>\n",
       "    </tr>\n",
       "    <tr>\n",
       "      <th>106</th>\n",
       "      <td>2</td>\n",
       "      <td>0</td>\n",
       "      <td>2</td>\n",
       "      <td>28</td>\n",
       "      <td>9.40</td>\n",
       "      <td>9.30</td>\n",
       "    </tr>\n",
       "    <tr>\n",
       "      <th>108</th>\n",
       "      <td>2</td>\n",
       "      <td>0</td>\n",
       "      <td>1</td>\n",
       "      <td>28</td>\n",
       "      <td>8.80</td>\n",
       "      <td>4.20</td>\n",
       "    </tr>\n",
       "    <tr>\n",
       "      <th>110</th>\n",
       "      <td>2</td>\n",
       "      <td>0</td>\n",
       "      <td>1</td>\n",
       "      <td>28</td>\n",
       "      <td>8.30</td>\n",
       "      <td>7.10</td>\n",
       "    </tr>\n",
       "  </tbody>\n",
       "</table>\n",
       "</div>"
      ],
      "text/plain": [
       "     study_index  treat  outcome  Baseline sample size  BL Mean  BL SD\n",
       "35             0      1        0                    39    13.70   7.00\n",
       "36             0      0        0                    38    14.30   8.20\n",
       "37             0      1        0                    25    29.20   9.50\n",
       "38             0      0        0                    27    33.60   6.80\n",
       "39             0      1        3                    39     7.90   5.00\n",
       "40             0      0        3                    38     8.10   5.60\n",
       "41             0      1        3                    26     4.50   3.70\n",
       "42             0      0        3                    28     4.50   3.70\n",
       "43             0      1        2                    39    18.90   8.80\n",
       "44             0      0        2                    38    21.20   9.70\n",
       "45             0      1        2                    24    20.60   8.10\n",
       "46             0      0        2                    28    21.60  10.20\n",
       "47             0      1        1                    39    27.30   9.70\n",
       "48             0      0        1                    38    30.90   8.80\n",
       "49             0      1        1                    26    14.00   6.80\n",
       "50             0      0        1                    28    13.60   8.60\n",
       "65             1      1        0                    49    36.10   6.86\n",
       "67             1      1        3                    49     6.37   4.03\n",
       "69             1      1        2                    49    29.70   6.10\n",
       "71             1      1        1                    49    17.10   8.37\n",
       "96             2      0        0                    28    28.10   7.60\n",
       "98             2      0        0                    28    14.60  10.40\n",
       "100            2      0        3                    28     5.80   2.80\n",
       "102            2      0        3                    28     3.10   3.30\n",
       "104            2      0        2                    28    16.80   8.30\n",
       "106            2      0        2                    28     9.40   9.30\n",
       "108            2      0        1                    28     8.80   4.20\n",
       "110            2      0        1                    28     8.30   7.10"
      ]
     },
     "execution_count": 40,
     "metadata": {},
     "output_type": "execute_result"
    }
   ],
   "source": [
    "baseline_data = antipsych_subset[['study_index', 'treat', 'outcome', 'Baseline sample size', 'BL Mean', 'BL SD']].drop_duplicates()\n",
    "baseline_data"
   ]
  },
  {
   "cell_type": "code",
   "execution_count": 41,
   "metadata": {
    "collapsed": false
   },
   "outputs": [
    {
     "data": {
      "text/html": [
       "<div>\n",
       "<table border=\"1\" class=\"dataframe\">\n",
       "  <thead>\n",
       "    <tr style=\"text-align: right;\">\n",
       "      <th></th>\n",
       "      <th>study_index</th>\n",
       "      <th>treat</th>\n",
       "      <th>outcome</th>\n",
       "      <th>sample_size</th>\n",
       "      <th>Mean</th>\n",
       "      <th>SD</th>\n",
       "    </tr>\n",
       "  </thead>\n",
       "  <tbody>\n",
       "    <tr>\n",
       "      <th>37</th>\n",
       "      <td>0</td>\n",
       "      <td>1</td>\n",
       "      <td>0</td>\n",
       "      <td>25.0</td>\n",
       "      <td>13.30</td>\n",
       "      <td>8.70</td>\n",
       "    </tr>\n",
       "    <tr>\n",
       "      <th>38</th>\n",
       "      <td>0</td>\n",
       "      <td>0</td>\n",
       "      <td>0</td>\n",
       "      <td>24.0</td>\n",
       "      <td>26.40</td>\n",
       "      <td>12.80</td>\n",
       "    </tr>\n",
       "    <tr>\n",
       "      <th>41</th>\n",
       "      <td>0</td>\n",
       "      <td>1</td>\n",
       "      <td>3</td>\n",
       "      <td>25.0</td>\n",
       "      <td>1.90</td>\n",
       "      <td>2.20</td>\n",
       "    </tr>\n",
       "    <tr>\n",
       "      <th>42</th>\n",
       "      <td>0</td>\n",
       "      <td>0</td>\n",
       "      <td>3</td>\n",
       "      <td>24.0</td>\n",
       "      <td>3.10</td>\n",
       "      <td>3.50</td>\n",
       "    </tr>\n",
       "    <tr>\n",
       "      <th>45</th>\n",
       "      <td>0</td>\n",
       "      <td>1</td>\n",
       "      <td>2</td>\n",
       "      <td>25.0</td>\n",
       "      <td>7.20</td>\n",
       "      <td>5.90</td>\n",
       "    </tr>\n",
       "    <tr>\n",
       "      <th>46</th>\n",
       "      <td>0</td>\n",
       "      <td>0</td>\n",
       "      <td>2</td>\n",
       "      <td>24.0</td>\n",
       "      <td>14.10</td>\n",
       "      <td>11.30</td>\n",
       "    </tr>\n",
       "    <tr>\n",
       "      <th>49</th>\n",
       "      <td>0</td>\n",
       "      <td>1</td>\n",
       "      <td>1</td>\n",
       "      <td>25.0</td>\n",
       "      <td>4.70</td>\n",
       "      <td>4.40</td>\n",
       "    </tr>\n",
       "    <tr>\n",
       "      <th>50</th>\n",
       "      <td>0</td>\n",
       "      <td>0</td>\n",
       "      <td>1</td>\n",
       "      <td>24.0</td>\n",
       "      <td>8.20</td>\n",
       "      <td>8.90</td>\n",
       "    </tr>\n",
       "    <tr>\n",
       "      <th>65</th>\n",
       "      <td>1</td>\n",
       "      <td>1</td>\n",
       "      <td>0</td>\n",
       "      <td>40.0</td>\n",
       "      <td>20.78</td>\n",
       "      <td>12.38</td>\n",
       "    </tr>\n",
       "    <tr>\n",
       "      <th>67</th>\n",
       "      <td>1</td>\n",
       "      <td>1</td>\n",
       "      <td>3</td>\n",
       "      <td>40.0</td>\n",
       "      <td>3.30</td>\n",
       "      <td>3.66</td>\n",
       "    </tr>\n",
       "    <tr>\n",
       "      <th>69</th>\n",
       "      <td>1</td>\n",
       "      <td>1</td>\n",
       "      <td>2</td>\n",
       "      <td>40.0</td>\n",
       "      <td>14.53</td>\n",
       "      <td>9.90</td>\n",
       "    </tr>\n",
       "    <tr>\n",
       "      <th>71</th>\n",
       "      <td>1</td>\n",
       "      <td>1</td>\n",
       "      <td>1</td>\n",
       "      <td>40.0</td>\n",
       "      <td>6.44</td>\n",
       "      <td>7.16</td>\n",
       "    </tr>\n",
       "  </tbody>\n",
       "</table>\n",
       "</div>"
      ],
      "text/plain": [
       "    study_index  treat  outcome  sample_size   Mean     SD\n",
       "37            0      1        0         25.0  13.30   8.70\n",
       "38            0      0        0         24.0  26.40  12.80\n",
       "41            0      1        3         25.0   1.90   2.20\n",
       "42            0      0        3         24.0   3.10   3.50\n",
       "45            0      1        2         25.0   7.20   5.90\n",
       "46            0      0        2         24.0  14.10  11.30\n",
       "49            0      1        1         25.0   4.70   4.40\n",
       "50            0      0        1         24.0   8.20   8.90\n",
       "65            1      1        0         40.0  20.78  12.38\n",
       "67            1      1        3         40.0   3.30   3.66\n",
       "69            1      1        2         40.0  14.53   9.90\n",
       "71            1      1        1         40.0   6.44   7.16"
      ]
     },
     "execution_count": 41,
     "metadata": {},
     "output_type": "execute_result"
    }
   ],
   "source": [
    "eot_data = antipsych_subset[['study_index', 'treat', 'outcome', 'sample_size', 'Mean', 'SD']].dropna()\n",
    "eot_data"
   ]
  },
  {
   "cell_type": "code",
   "execution_count": 42,
   "metadata": {
    "collapsed": false
   },
   "outputs": [
    {
     "data": {
      "text/html": [
       "<div>\n",
       "<table border=\"1\" class=\"dataframe\">\n",
       "  <thead>\n",
       "    <tr style=\"text-align: right;\">\n",
       "      <th></th>\n",
       "      <th>study_index</th>\n",
       "      <th>treat</th>\n",
       "      <th>outcome</th>\n",
       "      <th>Change score sample_size</th>\n",
       "      <th>Change score Mean</th>\n",
       "      <th>Change score SD</th>\n",
       "    </tr>\n",
       "  </thead>\n",
       "  <tbody>\n",
       "    <tr>\n",
       "      <th>35</th>\n",
       "      <td>0</td>\n",
       "      <td>1</td>\n",
       "      <td>0</td>\n",
       "      <td>39.0</td>\n",
       "      <td>-8.6</td>\n",
       "      <td>5.9</td>\n",
       "    </tr>\n",
       "    <tr>\n",
       "      <th>36</th>\n",
       "      <td>0</td>\n",
       "      <td>0</td>\n",
       "      <td>0</td>\n",
       "      <td>38.0</td>\n",
       "      <td>-5.7</td>\n",
       "      <td>6.9</td>\n",
       "    </tr>\n",
       "    <tr>\n",
       "      <th>39</th>\n",
       "      <td>0</td>\n",
       "      <td>1</td>\n",
       "      <td>3</td>\n",
       "      <td>39.0</td>\n",
       "      <td>-4.3</td>\n",
       "      <td>3.8</td>\n",
       "    </tr>\n",
       "    <tr>\n",
       "      <th>40</th>\n",
       "      <td>0</td>\n",
       "      <td>0</td>\n",
       "      <td>3</td>\n",
       "      <td>38.0</td>\n",
       "      <td>-2.4</td>\n",
       "      <td>4.0</td>\n",
       "    </tr>\n",
       "    <tr>\n",
       "      <th>43</th>\n",
       "      <td>0</td>\n",
       "      <td>1</td>\n",
       "      <td>2</td>\n",
       "      <td>39.0</td>\n",
       "      <td>-12.1</td>\n",
       "      <td>5.8</td>\n",
       "    </tr>\n",
       "    <tr>\n",
       "      <th>44</th>\n",
       "      <td>0</td>\n",
       "      <td>0</td>\n",
       "      <td>2</td>\n",
       "      <td>38.0</td>\n",
       "      <td>-6.5</td>\n",
       "      <td>8.4</td>\n",
       "    </tr>\n",
       "    <tr>\n",
       "      <th>47</th>\n",
       "      <td>0</td>\n",
       "      <td>1</td>\n",
       "      <td>1</td>\n",
       "      <td>39.0</td>\n",
       "      <td>-14.9</td>\n",
       "      <td>6.7</td>\n",
       "    </tr>\n",
       "    <tr>\n",
       "      <th>48</th>\n",
       "      <td>0</td>\n",
       "      <td>0</td>\n",
       "      <td>1</td>\n",
       "      <td>38.0</td>\n",
       "      <td>-7.4</td>\n",
       "      <td>9.7</td>\n",
       "    </tr>\n",
       "    <tr>\n",
       "      <th>96</th>\n",
       "      <td>2</td>\n",
       "      <td>0</td>\n",
       "      <td>0</td>\n",
       "      <td>28.0</td>\n",
       "      <td>-3.4</td>\n",
       "      <td>7.5</td>\n",
       "    </tr>\n",
       "    <tr>\n",
       "      <th>98</th>\n",
       "      <td>2</td>\n",
       "      <td>0</td>\n",
       "      <td>0</td>\n",
       "      <td>28.0</td>\n",
       "      <td>-1.0</td>\n",
       "      <td>10.0</td>\n",
       "    </tr>\n",
       "    <tr>\n",
       "      <th>100</th>\n",
       "      <td>2</td>\n",
       "      <td>0</td>\n",
       "      <td>3</td>\n",
       "      <td>28.0</td>\n",
       "      <td>-0.9</td>\n",
       "      <td>2.2</td>\n",
       "    </tr>\n",
       "    <tr>\n",
       "      <th>102</th>\n",
       "      <td>2</td>\n",
       "      <td>0</td>\n",
       "      <td>3</td>\n",
       "      <td>28.0</td>\n",
       "      <td>-0.1</td>\n",
       "      <td>2.8</td>\n",
       "    </tr>\n",
       "    <tr>\n",
       "      <th>104</th>\n",
       "      <td>2</td>\n",
       "      <td>0</td>\n",
       "      <td>2</td>\n",
       "      <td>28.0</td>\n",
       "      <td>-2.1</td>\n",
       "      <td>4.4</td>\n",
       "    </tr>\n",
       "    <tr>\n",
       "      <th>106</th>\n",
       "      <td>2</td>\n",
       "      <td>0</td>\n",
       "      <td>2</td>\n",
       "      <td>28.0</td>\n",
       "      <td>-0.2</td>\n",
       "      <td>6.8</td>\n",
       "    </tr>\n",
       "    <tr>\n",
       "      <th>108</th>\n",
       "      <td>2</td>\n",
       "      <td>0</td>\n",
       "      <td>1</td>\n",
       "      <td>28.0</td>\n",
       "      <td>0.1</td>\n",
       "      <td>2.6</td>\n",
       "    </tr>\n",
       "    <tr>\n",
       "      <th>110</th>\n",
       "      <td>2</td>\n",
       "      <td>0</td>\n",
       "      <td>1</td>\n",
       "      <td>28.0</td>\n",
       "      <td>-1.6</td>\n",
       "      <td>5.5</td>\n",
       "    </tr>\n",
       "  </tbody>\n",
       "</table>\n",
       "</div>"
      ],
      "text/plain": [
       "     study_index  treat  outcome  Change score sample_size  Change score Mean  \\\n",
       "35             0      1        0                      39.0               -8.6   \n",
       "36             0      0        0                      38.0               -5.7   \n",
       "39             0      1        3                      39.0               -4.3   \n",
       "40             0      0        3                      38.0               -2.4   \n",
       "43             0      1        2                      39.0              -12.1   \n",
       "44             0      0        2                      38.0               -6.5   \n",
       "47             0      1        1                      39.0              -14.9   \n",
       "48             0      0        1                      38.0               -7.4   \n",
       "96             2      0        0                      28.0               -3.4   \n",
       "98             2      0        0                      28.0               -1.0   \n",
       "100            2      0        3                      28.0               -0.9   \n",
       "102            2      0        3                      28.0               -0.1   \n",
       "104            2      0        2                      28.0               -2.1   \n",
       "106            2      0        2                      28.0               -0.2   \n",
       "108            2      0        1                      28.0                0.1   \n",
       "110            2      0        1                      28.0               -1.6   \n",
       "\n",
       "     Change score SD  \n",
       "35               5.9  \n",
       "36               6.9  \n",
       "39               3.8  \n",
       "40               4.0  \n",
       "43               5.8  \n",
       "44               8.4  \n",
       "47               6.7  \n",
       "48               9.7  \n",
       "96               7.5  \n",
       "98              10.0  \n",
       "100              2.2  \n",
       "102              2.8  \n",
       "104              4.4  \n",
       "106              6.8  \n",
       "108              2.6  \n",
       "110              5.5  "
      ]
     },
     "execution_count": 42,
     "metadata": {},
     "output_type": "execute_result"
    }
   ],
   "source": [
    "change_data = antipsych_subset[['study_index', 'treat', 'outcome', 'Change score sample_size',\n",
    "       'Change score Mean', 'Change score SD']].dropna()\n",
    "change_data"
   ]
  },
  {
   "cell_type": "code",
   "execution_count": 69,
   "metadata": {
    "collapsed": false
   },
   "outputs": [],
   "source": [
    "def risperidone_model():\n",
    "    \n",
    "    # Means and covariances for outcome subscales\n",
    "    μ = pm.Normal('μ', 0, 0.001, value=[0]*4)\n",
    "    σ = pm.HalfCauchy('σ', 0, 5, value=[3]*4)\n",
    "    ρ = pm.Uniform('ρ', -1, 1, value=[0]*6)\n",
    "    @pm.deterministic\n",
    "    def Τ(σ=σ, ρ=ρ):\n",
    "        var = σ**2\n",
    "        S = np.eye(4)*var\n",
    "        S[0,1] = S[1,0] = σ[0]*σ[1]*ρ[0]\n",
    "        S[0,2] = S[2,0] = σ[0]*σ[2]*ρ[1]\n",
    "        S[0,3] = S[3,0] = σ[0]*σ[3]*ρ[2]\n",
    "        S[2,1] = S[1,2] = σ[1]*σ[2]*ρ[3]\n",
    "        S[3,1] = S[1,3] = σ[1]*σ[3]*ρ[4]\n",
    "        S[2,3] = S[3,2] = σ[2]*σ[3]*ρ[5]\n",
    "        return np.linalg.inv(S)\n",
    "\n",
    "    # Model outcomes as multivariate normal (since they are subscales of the same outcome)\n",
    "    m = [pm.MvNormal('m_{}'.format(i), μ, Τ) for i in range(len(unique_studies))]\n",
    "    \n",
    "    # Risperidone effect for each outcome\n",
    "    β = pm.Normal('β', 0, 0.001, value=[0]*4)\n",
    "    \n",
    "    ν = pm.Exponential('ν', 1/30)\n",
    "    \n",
    "    # Baseline outcome likelihood\n",
    "    @pm.deterministic\n",
    "    def θ_baseline(m=m): \n",
    "        return [m[i][j] for i,j in zip(baseline_data.study_index.values, baseline_data.outcome.values)]\n",
    "    \n",
    "    baseline_se = baseline_data['BL SD'].values/np.sqrt(baseline_data['Baseline sample size'].values)\n",
    "    \n",
    "    baseline_outcome = pm.NoncentralT('baseline_outcome', θ_baseline, baseline_se**-2, nu=ν, observed=True, \n",
    "                                 value=baseline_data['BL Mean'].values)\n",
    "    \n",
    "    baseline_sim = pm.NoncentralT('baseline_sim', θ_baseline, baseline_se**-2, nu=ν, \n",
    "                                 value=baseline_data['BL Mean'].values)\n",
    "    \n",
    "    # End of treatment likelihood\n",
    "    @pm.deterministic\n",
    "    def θ_eot(m=m, β=β): \n",
    "        mi = [m[i][j] for i,j in zip(eot_data.study_index, eot_data.outcome)]\n",
    "        return(mi + β[eot_data.outcome.values]*eot_data.treat.values)\n",
    "    \n",
    "    \n",
    "    eot_se = eot_data['SD'].values/np.sqrt(eot_data['sample_size'].values)\n",
    "    \n",
    "    eot_outcome = pm.NoncentralT('eot_outcome', θ_eot, eot_se**-2, nu=ν, observed=True, \n",
    "                                 value=eot_data['Mean'].values)\n",
    "    \n",
    "    eot_sim = pm.NoncentralT('eot_sim', θ_eot, eot_se**-2, nu=ν, \n",
    "                                 value=eot_data['Mean'].values)\n",
    "    \n",
    "    # Change in score likelihood\n",
    "    @pm.deterministic\n",
    "    def θ_change(m=m, β=β, μ=μ): \n",
    "        mi = [m[i][j] for i,j in zip(change_data.study_index.values, change_data.outcome.values)]\n",
    "        return(mi - μ[change_data.outcome.values] + β[change_data.outcome.values]*change_data.treat.values)\n",
    "    \n",
    "    \n",
    "    change_se = change_data['Change score SD'].values/np.sqrt(change_data['Change score sample_size'].values)\n",
    "    \n",
    "    change_outcome = pm.NoncentralT('change_outcome', θ_change, change_se**-2, nu=ν, observed=True, \n",
    "                                 value=change_data['Change score Mean'].values)\n",
    "    \n",
    "    change_sim = pm.NoncentralT('change_sim', θ_change, change_se**-2, nu=ν, \n",
    "                                 value=change_data['Change score Mean'].values)\n",
    "\n",
    "    return locals()"
   ]
  },
  {
   "cell_type": "code",
   "execution_count": 70,
   "metadata": {
    "collapsed": false
   },
   "outputs": [],
   "source": [
    "M = pm.MCMC(risperidone_model())"
   ]
  },
  {
   "cell_type": "code",
   "execution_count": 71,
   "metadata": {
    "collapsed": true
   },
   "outputs": [],
   "source": [
    "n_iterations = 50000\n",
    "n_burn = 40000"
   ]
  },
  {
   "cell_type": "code",
   "execution_count": 72,
   "metadata": {
    "collapsed": false
   },
   "outputs": [
    {
     "name": "stdout",
     "output_type": "stream",
     "text": [
      " [-----------------100%-----------------] 50000 of 50000 complete in 128.7 sec"
     ]
    }
   ],
   "source": [
    "M.sample(50000, burn=40000)\n",
    "M.sample(50000, burn=40000)"
   ]
  },
  {
   "cell_type": "markdown",
   "metadata": {},
   "source": [
    "Estimates of risperidone effect"
   ]
  },
  {
   "cell_type": "code",
   "execution_count": 73,
   "metadata": {
    "collapsed": true
   },
   "outputs": [],
   "source": [
    "outcome_labels = ['Hyperactivity', 'Social Withdrawal/Lethargy', 'Irritability', 'Inappropriate Speech']"
   ]
  },
  {
   "cell_type": "code",
   "execution_count": 74,
   "metadata": {
    "collapsed": false
   },
   "outputs": [
    {
     "data": {
      "image/png": "[encoded data removed]",
      "text/plain": [
       "<matplotlib.figure.Figure at 0x11e0f4a20>"
      ]
     },
     "metadata": {},
     "output_type": "display_data"
    }
   ],
   "source": [
    "pm.Matplot.summary_plot(M.β, custom_labels=outcome_labels, xlab='Effect size')"
   ]
  },
  {
   "cell_type": "code",
   "execution_count": 75,
   "metadata": {
    "collapsed": false
   },
   "outputs": [
    {
     "data": {
      "image/png": "[encoded data removed]",
      "text/plain": [
       "<matplotlib.figure.Figure at 0x120009b38>"
      ]
     },
     "metadata": {},
     "output_type": "display_data"
    }
   ],
   "source": [
    "pm.Matplot.summary_plot(M.μ, custom_labels=outcome_labels, xlab='Mean baseline values')"
   ]
  },
  {
   "cell_type": "code",
   "execution_count": 76,
   "metadata": {
    "collapsed": false
   },
   "outputs": [
    {
     "data": {
      "image/png": "[encoded data removed]",
      "text/plain": [
       "<matplotlib.figure.Figure at 0x1217e92e8>"
      ]
     },
     "metadata": {},
     "output_type": "display_data"
    }
   ],
   "source": [
    "pm.Matplot.summary_plot(M.σ, custom_labels=outcome_labels, xlab='Effect standard deviation')"
   ]
  },
  {
   "cell_type": "code",
   "execution_count": 77,
   "metadata": {
    "collapsed": false
   },
   "outputs": [
    {
     "data": {
      "image/png": "[encoded data removed]",
      "text/plain": [
       "<matplotlib.figure.Figure at 0x11f225630>"
      ]
     },
     "metadata": {},
     "output_type": "display_data"
    }
   ],
   "source": [
    "pm.Matplot.summary_plot(M.ρ, custom_labels=['Hyperactivity-Social Withdrawal',\n",
    "                                           'Hyperactivity-Irritability',\n",
    "                                           'Hyperactivity-Inappropriate Speech',\n",
    "                                           'Social Withdrawal-Irritability',\n",
    "                                           'Social Withdrawal-Inappropriate Speech',\n",
    "                                           'Irritability-Inappropriate Speech'], xlab='Correlation', rhat=False)"
   ]
  },
  {
   "cell_type": "markdown",
   "metadata": {},
   "source": [
    "Degrees of freedom parameter for t-distribution"
   ]
  },
  {
   "cell_type": "code",
   "execution_count": 79,
   "metadata": {
    "collapsed": false
   },
   "outputs": [
    {
     "name": "stdout",
     "output_type": "stream",
     "text": [
      "Plotting ν\n"
     ]
    },
    {
     "data": {
      "image/png": "[encoded data removed]",
      "text/plain": [
       "<matplotlib.figure.Figure at 0x11eca1a58>"
      ]
     },
     "metadata": {},
     "output_type": "display_data"
    }
   ],
   "source": [
    "pm.Matplot.plot(M.ν)"
   ]
  },
  {
   "cell_type": "markdown",
   "metadata": {},
   "source": [
    "## Model checking\n",
    "\n",
    "Posterior predictive checks"
   ]
  },
  {
   "cell_type": "code",
   "execution_count": 81,
   "metadata": {
    "collapsed": false,
    "scrolled": false
   },
   "outputs": [],
   "source": [
    "# pm.Matplot.gof_plot(M.baseline_sim.trace(), baseline_data['BL Mean'].values, verbose=0)"
   ]
  },
  {
   "cell_type": "code",
   "execution_count": 54,
   "metadata": {
    "collapsed": false
   },
   "outputs": [],
   "source": [
    "# pm.Matplot.gof_plot(M.eot_sim.trace(), eot_data['Mean'].values, verbose=0)"
   ]
  },
  {
   "cell_type": "code",
   "execution_count": 55,
   "metadata": {
    "collapsed": false
   },
   "outputs": [],
   "source": [
    "# pm.Matplot.gof_plot(M.change_sim.trace(), change_data['Change score Mean'].values, verbose=0)"
   ]
  }
 ],
 "metadata": {
  "kernelspec": {
   "display_name": "Python 3",
   "language": "python",
   "name": "python3"
  },
  "language_info": {
   "codemirror_mode": {
    "name": "ipython",
    "version": 3
   },
   "file_extension": ".py",
   "mimetype": "text/x-python",
   "name": "python",
   "nbconvert_exporter": "python",
   "pygments_lexer": "ipython3",
   "version": "3.5.1"
  }
 },
 "nbformat": 4,
 "nbformat_minor": 1
}
